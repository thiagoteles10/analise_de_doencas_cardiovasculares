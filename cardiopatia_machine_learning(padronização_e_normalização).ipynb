{
  "nbformat": 4,
  "nbformat_minor": 0,
  "metadata": {
    "colab": {
      "provenance": [],
      "authorship_tag": "ABX9TyOKkEG5gSeoTdEGPlt+mEhs",
      "include_colab_link": true
    },
    "kernelspec": {
      "name": "python3",
      "display_name": "Python 3"
    },
    "language_info": {
      "name": "python"
    }
  },
  "cells": [
    {
      "cell_type": "markdown",
      "metadata": {
        "id": "view-in-github",
        "colab_type": "text"
      },
      "source": [
        "<a href=\"https://colab.research.google.com/github/thiagoteles10/analise_de_doencas_cardiovasculares/blob/main/cardiopatia_machine_learning(padroniza%C3%A7%C3%A3o_e_normaliza%C3%A7%C3%A3o).ipynb\" target=\"_parent\"><img src=\"https://colab.research.google.com/assets/colab-badge.svg\" alt=\"Open In Colab\"/></a>"
      ]
    },
    {
      "cell_type": "code",
      "execution_count": 1,
      "metadata": {
        "id": "Bv92EkL2NpR9"
      },
      "outputs": [],
      "source": [
        "import pandas as pd\n",
        "import numpy as np\n",
        "from scipy.stats import norm\n",
        "import matplotlib.pyplot as plt\n",
        "import seaborn as sns\n",
        "\n",
        "# machine learning\n",
        "from sklearn.model_selection import train_test_split\n",
        "from sklearn.linear_model import LogisticRegression\n",
        "\n",
        "# avaliando o modelo\n",
        "from sklearn.metrics import classification_report\n",
        "from sklearn.metrics import confusion_matrix\n",
        "from sklearn.metrics import accuracy_score\n",
        "from sklearn.preprocessing import StandardScaler\n",
        "from sklearn.preprocessing import MinMaxScaler\n",
        "from sklearn.model_selection import cross_val_score\n",
        "from sklearn import model_selection \n",
        "from sklearn.neighbors import KNeighborsClassifier\n",
        "\n",
        "# IMPORTANDO O MODELO RANDOM FOREST\n",
        "\n",
        "from sklearn.ensemble import RandomForestClassifier\n",
        "\n",
        "import warnings\n",
        "warnings.filterwarnings('ignore') # filtro de warnings"
      ]
    },
    {
      "cell_type": "markdown",
      "source": [
        "### Avaliação dos dados usando regressão logística(sem redimensionamento)"
      ],
      "metadata": {
        "id": "057_e6bJ0KC1"
      }
    },
    {
      "cell_type": "code",
      "source": [
        "df = pd.read_csv('heart.csv')\n",
        "df = df.drop_duplicates()\n",
        "array = df.values\n",
        "\n",
        "# separando os dados\n",
        "X = array[:,0:13]\n",
        "Y = array[:,13]\n",
        "\n",
        "# definindo o tamanho das amostras\n",
        "teste_size = 0.45\n",
        "\n",
        "# garantem que os resultados podem ser reproduzidos\n",
        "# isso é importante para comparar a acurácia com outros algoritmos de machine learning\n",
        "seed = 7"
      ],
      "metadata": {
        "id": "i8QGm4YRPBs9"
      },
      "execution_count": 2,
      "outputs": []
    },
    {
      "cell_type": "code",
      "source": [
        "# criando o comnjunto de dados de treino e de teste\n",
        "X_treino,X_teste,Y_treino,Y_teste = train_test_split(X,Y,random_state=seed,test_size=teste_size)\n",
        "\n",
        "# criação do modelo\n",
        "modelo = LogisticRegression()\n",
        "modelo.fit(X_treino,Y_treino)"
      ],
      "metadata": {
        "colab": {
          "base_uri": "https://localhost:8080/"
        },
        "id": "BfGDBeyPSqTk",
        "outputId": "81950d88-4129-4821-c317-4a9f7ac54f0d"
      },
      "execution_count": 3,
      "outputs": [
        {
          "output_type": "execute_result",
          "data": {
            "text/plain": [
              "LogisticRegression()"
            ]
          },
          "metadata": {},
          "execution_count": 3
        }
      ]
    },
    {
      "cell_type": "code",
      "source": [
        "# score\n",
        "resultado = modelo.score(X_teste,Y_teste)\n",
        "print('a acurácia do teste foi de: %.2f%%'% (resultado * 100))\n"
      ],
      "metadata": {
        "colab": {
          "base_uri": "https://localhost:8080/"
        },
        "id": "Q2M5209sXMP5",
        "outputId": "4e324163-3451-4a1b-f067-ba64a762ceb8"
      },
      "execution_count": 4,
      "outputs": [
        {
          "output_type": "stream",
          "name": "stdout",
          "text": [
            "a acurácia do teste foi de: 86.03%\n"
          ]
        }
      ]
    },
    {
      "cell_type": "markdown",
      "source": [
        "### Avaliação dos dados usando cross validation"
      ],
      "metadata": {
        "id": "6qM8SghiaB9S"
      }
    },
    {
      "cell_type": "code",
      "source": [
        "df = pd.read_csv('heart.csv')\n",
        "array = df.values\n",
        "\n",
        "# separando o array e componentes de input e output\n",
        "X = array[:,0:13]\n",
        "Y = array[:,13]\n",
        "\n",
        "# definindo os valores para o número de folds\n",
        "num_folds = 10\n",
        "seed = 7\n",
        "\n",
        "# separando os dados em fods\n",
        "kfold = model_selection.KFold(num_folds)"
      ],
      "metadata": {
        "id": "t91NdazhaJWD"
      },
      "execution_count": 5,
      "outputs": []
    },
    {
      "cell_type": "code",
      "source": [
        "# criando o modelo\n",
        "modelo = LogisticRegression()\n",
        "\n",
        "# cross validation\n",
        "resultado = cross_val_score(modelo,X,Y,cv=kfold)"
      ],
      "metadata": {
        "id": "QJyOJdyQjAa_"
      },
      "execution_count": 6,
      "outputs": []
    },
    {
      "cell_type": "code",
      "source": [
        "# print do rsultado\n",
        "print('acurácia de : %.2f%%'%((resultado.mean()*100)))\n",
        "print('\\n')\n",
        "# print desvio padrão\n",
        "print('desvio padrão : %.2f%%'%(resultado.std() * 100))"
      ],
      "metadata": {
        "colab": {
          "base_uri": "https://localhost:8080/"
        },
        "id": "YUAHHu8ljhAV",
        "outputId": "27baad44-3edf-4d82-d28f-08b06c27d522"
      },
      "execution_count": 7,
      "outputs": [
        {
          "output_type": "stream",
          "name": "stdout",
          "text": [
            "acurácia de : 79.76%\n",
            "\n",
            "\n",
            "desvio padrão : 10.66%\n"
          ]
        }
      ]
    },
    {
      "cell_type": "markdown",
      "source": [
        "### Padronizando os dados e usando regressão logística"
      ],
      "metadata": {
        "id": "bGVbAXOC1xhD"
      }
    },
    {
      "cell_type": "code",
      "source": [
        "df = pd.read_csv('heart.csv')\n",
        "array = df.values\n",
        "\n",
        "# separando os dados\n",
        "X = array[:,0:13]\n",
        "Y = array[:,13]\n",
        "\n",
        "# gerando o novo padrão\n",
        "scaler = StandardScaler().fit(X)\n",
        "padronizacaoX = scaler.transform(X)"
      ],
      "metadata": {
        "id": "pgoV8Avd12Cp"
      },
      "execution_count": 8,
      "outputs": []
    },
    {
      "cell_type": "code",
      "source": [
        "# definindo os valores para o número de folds\n",
        "num_folds = 10\n",
        "seed = 7\n",
        "\n",
        "# separando os dados em fods\n",
        "kfold = model_selection.KFold(num_folds)\n",
        "\n",
        "# criando o modelo\n",
        "modelo = LogisticRegression()"
      ],
      "metadata": {
        "id": "WxJRJ1Xv2fzp"
      },
      "execution_count": 9,
      "outputs": []
    },
    {
      "cell_type": "code",
      "source": [
        "# cross validation\n",
        "resultado = cross_val_score(modelo,padronizacaoX,Y,cv=kfold)"
      ],
      "metadata": {
        "id": "DgSlOP0M29PK"
      },
      "execution_count": 10,
      "outputs": []
    },
    {
      "cell_type": "code",
      "source": [
        "# print do rsultado\n",
        "print('acurácia de : %.2f%%'%((resultado.mean()*100)))\n",
        "# print desvio padrão\n",
        "print('desvio padrão : %.2f%%'%(resultado.std() * 100))"
      ],
      "metadata": {
        "colab": {
          "base_uri": "https://localhost:8080/"
        },
        "id": "GAPOBxQc3RGB",
        "outputId": "4b9e89e9-0032-444f-ec75-dd6049579326"
      },
      "execution_count": 11,
      "outputs": [
        {
          "output_type": "stream",
          "name": "stdout",
          "text": [
            "acurácia de : 77.51%\n",
            "desvio padrão : 9.38%\n"
          ]
        }
      ]
    },
    {
      "cell_type": "markdown",
      "source": [
        "### Normalizando os dados e usando regressão logística"
      ],
      "metadata": {
        "id": "kvuyGTk_G2if"
      }
    },
    {
      "cell_type": "code",
      "source": [
        "df = pd.read_csv('heart.csv')\n",
        "array = df.values\n",
        "\n",
        "# separando os dados\n",
        "X = array[:,0:13]\n",
        "Y = array[:,13]\n",
        "\n",
        "# gerando o novo padrão\n",
        "scaler = MinMaxScaler().fit(X)\n",
        "normalizacaoX = scaler.transform(X)"
      ],
      "metadata": {
        "id": "s7A1zsGuG64_"
      },
      "execution_count": 12,
      "outputs": []
    },
    {
      "cell_type": "code",
      "source": [
        "# definindo os valores para o número de folds\n",
        "num_folds = 10\n",
        "seed = 7\n",
        "\n",
        "# separando os dados em fods\n",
        "kfold = model_selection.KFold(num_folds)\n",
        "\n",
        "# criando o modelo\n",
        "modelo = LogisticRegression()"
      ],
      "metadata": {
        "id": "RkrYiWxyHJ39"
      },
      "execution_count": 13,
      "outputs": []
    },
    {
      "cell_type": "code",
      "source": [
        "# cross validation\n",
        "resultado = cross_val_score(modelo,normalizacaoX,Y,cv=kfold)"
      ],
      "metadata": {
        "id": "gxhcBUFjIAs1"
      },
      "execution_count": 14,
      "outputs": []
    },
    {
      "cell_type": "code",
      "source": [
        "# print do rsultado\n",
        "print('acurácia de : %.2f%%'%((resultado.mean()*100)))\n",
        "# print desvio padrão\n",
        "print('desvio padrão : %.2f%%'%(resultado.std() * 100))"
      ],
      "metadata": {
        "colab": {
          "base_uri": "https://localhost:8080/"
        },
        "id": "B9sIxcPcILfT",
        "outputId": "4990e942-2062-4acc-890d-b401dcd2db93"
      },
      "execution_count": 15,
      "outputs": [
        {
          "output_type": "stream",
          "name": "stdout",
          "text": [
            "acurácia de : 78.46%\n",
            "desvio padrão : 10.12%\n"
          ]
        }
      ]
    },
    {
      "cell_type": "markdown",
      "source": [
        "### Vemos que o uso da normalização e padronização não aumentam a acurácia dos algoritmos de machine learning usados pois os valores do dataframe não são separados por um intervalo significativo que possa impactar os algoritmos de machine learning.\n",
        "\n",
        "### O algoritmo de regressão logística foi o que obteve o melhor desempenho"
      ],
      "metadata": {
        "id": "f38-qSHIX115"
      }
    },
    {
      "cell_type": "markdown",
      "source": [
        "### Avaliando a multicolinearidade"
      ],
      "metadata": {
        "id": "lOnZHJ2eX8Bh"
      }
    },
    {
      "cell_type": "code",
      "source": [
        "corr = np.corrcoef(X,rowvar=0)\n",
        "eigenvalues, eigenvectors = np.linalg.eig(corr)"
      ],
      "metadata": {
        "id": "R6swh72xwgHQ"
      },
      "execution_count": 16,
      "outputs": []
    },
    {
      "cell_type": "code",
      "source": [
        "print(eigenvalues)"
      ],
      "metadata": {
        "colab": {
          "base_uri": "https://localhost:8080/"
        },
        "id": "4VkAk3kaXyQf",
        "outputId": "24ba55cf-7fe6-4c00-d9e3-9510c4738500"
      },
      "execution_count": 17,
      "outputs": [
        {
          "output_type": "stream",
          "name": "stdout",
          "text": [
            "[2.76302691 1.536692   0.37186073 0.42314238 1.2228343  1.18114551\n",
            " 0.53010476 1.02196654 0.97001587 0.86276993 0.77594538 0.7189255\n",
            " 0.62157019]\n"
          ]
        }
      ]
    },
    {
      "cell_type": "code",
      "source": [
        "print(eigenvectors[:,2])"
      ],
      "metadata": {
        "colab": {
          "base_uri": "https://localhost:8080/"
        },
        "id": "PU7iYzF4dM5l",
        "outputId": "f8a48664-5abb-4798-b268-a026e82719c4"
      },
      "execution_count": 18,
      "outputs": [
        {
          "output_type": "stream",
          "name": "stdout",
          "text": [
            "[ 0.18181083  0.06093808  0.00635061  0.0201296  -0.00745311 -0.12716692\n",
            "  0.07444225  0.31669181  0.14872674 -0.61457545 -0.64516376  0.15626403\n",
            "  0.01568971]\n"
          ]
        }
      ]
    }
  ]
}